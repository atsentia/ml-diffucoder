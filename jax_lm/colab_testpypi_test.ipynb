{
 "cells": [
  {
   "cell_type": "markdown",
   "metadata": {},
   "source": [
    "# Testing jax-diffucoder from TestPyPI\n",
    "\n",
    "This notebook tests the jax-diffucoder package installed from TestPyPI."
   ]
  },
  {
   "cell_type": "code",
   "execution_count": null,
   "metadata": {},
   "outputs": [],
   "source": [
    "# Install from TestPyPI\n",
    "# Note: --extra-index-url is needed for dependencies not on TestPyPI\n",
    "!pip install --index-url https://test.pypi.org/simple/ --extra-index-url https://pypi.org/simple/ jax-diffucoder"
   ]
  },
  {
   "cell_type": "code",
   "execution_count": null,
   "metadata": {},
   "outputs": [],
   "source": [
    "# Verify installation\n",
    "import jax\n",
    "import jax_lm\n",
    "\n",
    "print(f\"✅ jax-diffucoder version: {jax_lm.__version__}\")\n",
    "print(f\"JAX version: {jax.__version__}\")\n",
    "print(f\"JAX devices: {jax.devices()}\")"
   ]
  },
  {
   "cell_type": "code",
   "execution_count": null,
   "metadata": {},
   "outputs": [],
   "source": [
    "# Test imports\n",
    "from jax_lm import (\n",
    "    DiffuCoderConfig,\n",
    "    load_model,\n",
    "    generate,\n",
    "    load_tokenizer\n",
    ")\n",
    "\n",
    "print(\"✅ All imports successful\")"
   ]
  },
  {
   "cell_type": "code",
   "execution_count": null,
   "metadata": {},
   "outputs": [],
   "source": [
    "# Test configuration\n",
    "config = DiffuCoderConfig()\n",
    "print(\"Model configuration:\")\n",
    "print(f\"  Hidden size: {config.hidden_size}\")\n",
    "print(f\"  Num layers: {config.num_hidden_layers}\")\n",
    "print(f\"  Num heads: {config.num_attention_heads}\")\n",
    "print(f\"  Vocab size: {config.vocab_size}\")"
   ]
  },
  {
   "cell_type": "code",
   "execution_count": null,
   "metadata": {},
   "outputs": [],
   "source": [
    "# Check hardware\n",
    "import jax\n",
    "\n",
    "if len(jax.devices(\"tpu\")) > 0:\n",
    "    print(f\"🚀 Running on TPU with {len(jax.devices('tpu'))} cores\")\n",
    "    print(f\"TPU devices: {jax.devices('tpu')}\")\n",
    "elif len(jax.devices(\"gpu\")) > 0:\n",
    "    print(f\"🎮 Running on GPU\")\n",
    "    print(f\"GPU devices: {jax.devices('gpu')}\")\n",
    "else:\n",
    "    print(f\"💻 Running on CPU\")\n",
    "    print(f\"CPU devices: {jax.devices('cpu')}\")"
   ]
  },
  {
   "cell_type": "code",
   "execution_count": null,
   "metadata": {},
   "outputs": [],
   "source": [
    "# Test model loading (will fail until HuggingFace upload)\n",
    "try:\n",
    "    print(\"Attempting to load model from HuggingFace...\")\n",
    "    model, params, tokenizer = load_model(\"atsentia/DiffuCoder-7B-JAX\")\n",
    "    print(\"✅ Model loaded successfully!\")\n",
    "    \n",
    "    # Test generation\n",
    "    prompt = \"def hello_world():\"\n",
    "    output = generate(model, params, prompt, tokenizer, max_new_tokens=50)\n",
    "    print(f\"\\nGenerated output:\\n{output}\")\n",
    "    \n",
    "except Exception as e:\n",
    "    print(f\"❌ Model loading failed (expected until HF upload is complete)\")\n",
    "    print(f\"Error: {type(e).__name__}: {e}\")"
   ]
  },
  {
   "cell_type": "markdown",
   "metadata": {},
   "source": [
    "## Next Steps\n",
    "\n",
    "1. Upload model to HuggingFace: `atsentia/DiffuCoder-7B-JAX`\n",
    "2. Re-run the model loading cell above\n",
    "3. Test generation with different prompts\n",
    "4. Benchmark on TPU vs GPU vs CPU"
   ]
  }
 ],
 "metadata": {
  "kernelspec": {
   "display_name": "Python 3",
   "language": "python",
   "name": "python3"
  },
  "language_info": {
   "name": "python",
   "version": "3.10.0"
  }
 },
 "nbformat": 4,
 "nbformat_minor": 4
}